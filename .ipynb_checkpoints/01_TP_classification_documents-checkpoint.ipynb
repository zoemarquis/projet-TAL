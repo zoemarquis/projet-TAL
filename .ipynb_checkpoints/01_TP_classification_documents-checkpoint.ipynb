{
  "nbformat": 4,
  "nbformat_minor": 0,
  "metadata": {
    "kernelspec": {
      "display_name": "Python 3",
      "language": "python",
      "name": "python3"
    },
    "language_info": {
      "codemirror_mode": {
        "name": "ipython",
        "version": 3
      },
      "file_extension": ".py",
      "mimetype": "text/x-python",
      "name": "python",
      "nbconvert_exporter": "python",
      "pygments_lexer": "ipython3",
      "version": "3.7.5"
    },
    "colab": {
      "provenance": [],
      "collapsed_sections": [
        "--co-HHyteh0",
        "Mp_4ieadteii"
      ]
    }
  },
  "cells": [
    {
      "cell_type": "code",
      "metadata": {
        "id": "f-MYbGvEtehY"
      },
      "source": [
        "# Imports nécessaires\n",
        "\n",
        "%matplotlib inline\n",
        "\n",
        "# Suppression de l'affichage des messages d'avertissement\n",
        "import warnings\n",
        "warnings.filterwarnings('ignore')\n",
        "import string\n",
        "import time\n",
        "import nltk\n",
        "from nltk.corpus import stopwords\n",
        "from nltk.tokenize import word_tokenize\n",
        "from sklearn import metrics\n",
        "from sklearn import model_selection\n",
        "from sklearn import set_config\n",
        "from sklearn.base import BaseEstimator, TransformerMixin\n",
        "from sklearn.dummy import DummyClassifier\n",
        "from sklearn.compose import ColumnTransformer\n",
        "from sklearn.ensemble import RandomForestClassifier\n",
        "from sklearn.feature_extraction import DictVectorizer\n",
        "from sklearn.feature_extraction.text import CountVectorizer, TfidfVectorizer\n",
        "from sklearn.linear_model import LogisticRegression\n",
        "from sklearn.metrics import classification_report, f1_score, accuracy_score, confusion_matrix\n",
        "from sklearn.model_selection import train_test_split\n",
        "from sklearn.multiclass import OneVsRestClassifier\n",
        "from sklearn.naive_bayes import MultinomialNB\n",
        "from sklearn.neighbors import KNeighborsClassifier\n",
        "from sklearn.preprocessing import FunctionTransformer, MinMaxScaler\n",
        "from sklearn.pipeline import Pipeline, FeatureUnion, make_pipeline\n",
        "from sklearn.tree import DecisionTreeClassifier\n",
        "import seaborn as sns\n",
        "import matplotlib.pyplot as plt\n",
        "import numpy as np\n",
        "import pandas as pd\n",
        "import spacy\n",
        "import nltk\n",
        "\n",
        "# Pour éviter l'affichage tronqué des descriptions\n",
        "pd.set_option('display.max_colwidth', -1)\n",
        "# Pour la visualisation des pipelines sklearn\n",
        "set_config(display='diagram')"
      ],
      "execution_count": null,
      "outputs": []
    },
    {
      "cell_type": "markdown",
      "metadata": {
        "id": "Xoq3snqmtehd"
      },
      "source": [
        "# Classification de documents\n",
        "\n",
        "<div class=\"alert alert-block alert-info\">\n",
        "\n",
        "🥅 **Objectifs**\n",
        "\n",
        "- Savoir utiliser `scikit-learn` pour faire de l'apprentissage supervisé à partir de documents\n",
        "- Savoir prétraiter les données pour l'apprentissage\n",
        "- Réaliser une validation croisée pour l'apprentissage\n",
        "- Interpréter les résultats obtenus\n",
        "</div>"
      ]
    },
    {
      "cell_type": "markdown",
      "metadata": {
        "id": "nVFF-1SVtehg"
      },
      "source": [
        "## 1. Données\n",
        "\n",
        "Nous allons travailler avec un jeu de données contenant des descriptions de vins français, téléchargées à l'adresse suivante : https://www.kaggle.com/zynicide/wine-reviews/\n",
        "Ces descriptions proviennent du site WineEnthusiast, et comprennent par ailleurs le prix d'une bouteille de vin en dollars, la région d'où est issu le vin et la variété de raisin utilisée.  \n",
        "\n",
        "L'objectif sera de parvenir à prédire automatiquement la région, en fonction des autres informations.\n",
        "\n",
        "Nous allons commencer par récupérer et charger les données :"
      ]
    },
    {
      "cell_type": "code",
      "metadata": {
        "id": "2meZytW9tjZy"
      },
      "source": [
        "# Création d'un dossier appelé data\n",
        "!mkdir data\n",
        "# Téléchargement du fichier winemag-fr.csv dans le dossier data\n",
        "!wget -P data https://git.unistra.fr/dbernhard/ftaa_data/-/raw/main/winemag-fr.csv"
      ],
      "execution_count": null,
      "outputs": []
    },
    {
      "cell_type": "code",
      "metadata": {
        "id": "vioXuXljtehh"
      },
      "source": [
        "# Lecture du fichier CSV\n",
        "wine_df = pd.read_csv(\"data/winemag-fr.csv\", sep=\",\", dtype={'description': 'object',\n",
        "                                           'price': 'float64',\n",
        "                                           'province': 'category',\n",
        "                                           'variety': 'object'})\n",
        "# Nettoyage des données\n",
        "# - Suppression des lignes comportant des données manquantes (dropna)\n",
        "# - Suppression des doublons (drop_duplicates)\n",
        "wine_df = wine_df.drop_duplicates().dropna(how = 'any')"
      ],
      "execution_count": null,
      "outputs": []
    },
    {
      "cell_type": "code",
      "metadata": {
        "id": "iHJTlEhGtehj"
      },
      "source": [
        "wine_df.info()"
      ],
      "execution_count": null,
      "outputs": []
    },
    {
      "cell_type": "markdown",
      "metadata": {
        "id": "heByQmvWtehk"
      },
      "source": [
        "Le jeu de données contient 10 166 lignes. Ce jeu de données est relativement petit pour l'apprentissage automatique. Les colonnes `description` et `variety` contiennent du texte. La colonne `price` des nombres réels. La colonne `province` est catégorielle : elle ne peut prendre qu'un nombre fini de valeurs différentes (modalités)."
      ]
    },
    {
      "cell_type": "markdown",
      "metadata": {
        "id": "B0cSVx9stehk"
      },
      "source": [
        "Nous allons ajouter deux nouvelles colonnes :\n",
        "- `sparkling` (colonne booléenne pour les vins pétillants)\n",
        "- `expensive` (colonne booléenne pour les vins chers / peu chers). Cette opération consiste à **discrétiser** la colonne `price`, c'est-à-dire transformer des variables continues en\n",
        "valeurs discrètes. Cela peut dans certains cas améliorer les résultats de\n",
        "l’apprentissage, faciliter l’interprétation des résultats et réduire le temps de calcul. Nous allons classer les vins  en deux catégories : *cher* / *peu cher*, en utilisant un seuil de prix de 50."
      ]
    },
    {
      "cell_type": "markdown",
      "metadata": {
        "id": "d4dwYLWStehm"
      },
      "source": [
        "A partir de cette valeur, nous définissons la colonne booléenne `expensive`, dont la valeur sera 1 si le prix est supérieur au prix de 50, 0 dans le cas contraire :"
      ]
    },
    {
      "cell_type": "code",
      "metadata": {
        "id": "HJ6qzgeytehn"
      },
      "source": [
        "threshold_price = 50\n",
        "wine_df['expensive'] = wine_df['price'].map(lambda x : 1 if x > threshold_price else 0)\n",
        "wine_df['expensive'] = wine_df['expensive'].astype('int64')\n",
        "wine_df.expensive.value_counts().plot(kind='bar')"
      ],
      "execution_count": null,
      "outputs": []
    },
    {
      "cell_type": "markdown",
      "metadata": {
        "id": "a9Cxl1H_teho"
      },
      "source": [
        "De la même manière, nous définissons la colonne booléenne `sparkling`, dont la valeur sera 1 si le vin est pétillant, 0 dans le cas contraire :"
      ]
    },
    {
      "cell_type": "code",
      "metadata": {
        "id": "7V3moEW8tehp"
      },
      "source": [
        "wine_df['sparkling'] = wine_df['variety'].map(\n",
        "    lambda v : 1 if v in ['Champagne_Blend', 'Sparkling_Blend'] else 0)\n",
        "wine_df['sparkling'] = wine_df['sparkling'].astype('int64')\n",
        "wine_df.sparkling.value_counts().plot(kind='bar')"
      ],
      "execution_count": null,
      "outputs": []
    },
    {
      "cell_type": "markdown",
      "metadata": {
        "id": "pd7S6y88tehp"
      },
      "source": [
        "## 2.  Apprentissage de la région\n",
        "\n",
        "Nous allons tout d'abord tenter d'apprendre la région, à partir du type pétillant ou non, de la catégorie de prix, de la description et de la variété de raisin.\n",
        "\n",
        "Les différentes régions présentes dans le jeu de données sont les suivantes :"
      ]
    },
    {
      "cell_type": "code",
      "metadata": {
        "id": "tgvOWLUFtehp"
      },
      "source": [
        "wine_df.province.value_counts()"
      ],
      "execution_count": null,
      "outputs": []
    },
    {
      "cell_type": "markdown",
      "metadata": {
        "id": "na6UkpnBtehq"
      },
      "source": [
        "Par convention, en science des données :\n",
        "- **`X`** est utilisé pour les données sources utilisées pour l'apprentissage, c'est à dire l'ensemble des traits ou caractéristiques (*features*)\n",
        "- **`y`**  est utilisé pour ce que l'on cherche à prédire (la ou les classes, en cas de classification multi-label)\n",
        "- **`train`** est utilisé pour les données d'apprentissage\n",
        "- **`test`** est utilisé pour les données d'évaluation\n",
        "\n",
        "Nous allons tout d'abord extraire `X` et `y` à partir de nos données :"
      ]
    },
    {
      "cell_type": "code",
      "metadata": {
        "id": "dadmhrGOtehq"
      },
      "source": [
        "# Les colonnes contenant les informations utilisées pour l'apprentissage\n",
        "X = wine_df[['sparkling', 'expensive', 'description', 'variety']]\n",
        "# La colonne contenant l'information à prédire\n",
        "y = wine_df.province"
      ],
      "execution_count": null,
      "outputs": []
    },
    {
      "cell_type": "code",
      "metadata": {
        "id": "sGKaxHDRtehr"
      },
      "source": [
        "X.head()"
      ],
      "execution_count": null,
      "outputs": []
    },
    {
      "cell_type": "code",
      "metadata": {
        "id": "j9fw7joUtehr"
      },
      "source": [
        "y.head()"
      ],
      "execution_count": null,
      "outputs": []
    },
    {
      "cell_type": "markdown",
      "metadata": {
        "id": "EPhM5571tehs"
      },
      "source": [
        "Pour réaliser nos premières expériences, nous allons découper automatiquement les données en jeu d'apprentissage et de validation (_dev-test set_).\n",
        "\n",
        "Nous allons uiliser 20% des données pour la validation (`test_size=0.2`). Avant découpage, les données seront mélangées (`shuffle=True`). Cette opération est contrôlée par un entier (`random_state=12`) qui permet de contrôler le générateur de nombre aléatoire et ainsi s'assurer que les données seront découpées de la même manière à chaque appel de la fonction."
      ]
    },
    {
      "cell_type": "code",
      "metadata": {
        "id": "uABIfy0ltehs"
      },
      "source": [
        "X_train, X_val, y_train, y_val = train_test_split(X, y, test_size=0.2,\n",
        "                                                    random_state=12, shuffle=True)"
      ],
      "execution_count": null,
      "outputs": []
    },
    {
      "cell_type": "markdown",
      "metadata": {
        "id": "wTVJwqg7tehs"
      },
      "source": [
        "### 2.1. Création de pipelines\n",
        "    \n",
        "Dans `scikit-learn` on dispose de différents types d'outils :    \n",
        "- **Estimateurs** :\n",
        "    - Objectif : estimer certains paramètres à partir d’un jeu de données, apprendre un modèle\n",
        "    - L’estimation est effectuée par appel à la méthode `fit()`\n",
        "    - Exemple : méthode `fit()` de `CountVectorizer`\n",
        "- **Transformateurs** :\n",
        "    - Objectif : transformer le jeu de données\n",
        "    - La transformation est effectuée par appel à la méthode `transform()`\n",
        "    - La transformation repose en général sur les paramètres appris à la phase d'estimation\n",
        "- **Prédicteurs**\n",
        "    - Certains estimateurs peuvent faire des prédictions à partir d'un jeu de données\n",
        "    - La prédiction se fait par appel à la méthode `predict()`\n",
        "    - Elle renvoie les prédictions à partir d'un nouveau jeu de données\n",
        "- **Pipeline**\n",
        "    - Séquence de transformateurs (`fit` et `transform`) et de prédicteurs (`fit` et `predict`)\n",
        "\n",
        "Nous allons décrire une chaîne de traitement spécifique à chaque type de colonne. En particulier, les colonnes correspondant à des textes dans `X` doivent être transformées en nombres (sac de mots) pour pouvoir être utilisées pour l'apprentissage (colonnes `description`, `variety`).\n",
        "\n",
        "Ces chaînes de traitement seront décrites dans des objets de type `Pipeline` qui incluent toutes les étapes de pré-traitement et de classification. L'utilisation des objets `Pipeline` rend le code plus flexible, mieux structuré, et permet l'utilisation plus aisée de la validation croisée."
      ]
    },
    {
      "cell_type": "markdown",
      "metadata": {
        "id": "EIZbJACBteht"
      },
      "source": [
        "#### 2.1.1. Colonne `variety`\n",
        "\n",
        "Dans cette colonne, lorsque le nom de la variété comporte plusieurs mots, comme \"Bordeaux-style\\_Red\\_Blend\", les mots sont séparés par `_`. Nous allons donc définir une fonction de tokénisation qui découpe la variété en fonction de ce signe. Cette fonction de tokénisation sera ensuite utilisée par un objet de type `CountVectorizer`, afin de pouvoir passer à une représentation \"sac de mots\"."
      ]
    },
    {
      "cell_type": "code",
      "metadata": {
        "id": "1YRYMWFgteht"
      },
      "source": [
        "# Fonction de tokénisation\n",
        "def tokenize_variety(text):\n",
        "    return text.split('_')\n",
        "\n",
        "# Objet CountVectorizer pour la transformation en sac de mots\n",
        "var_vectorizer = CountVectorizer(tokenizer=tokenize_variety,\n",
        "                                 min_df=0.01)"
      ],
      "execution_count": null,
      "outputs": []
    },
    {
      "cell_type": "markdown",
      "metadata": {
        "id": "2leFOOqAteht"
      },
      "source": [
        "Exemple d'utilisation de `var_vectorizer` sur les 5 premières lignes de `X_val` :"
      ]
    },
    {
      "cell_type": "code",
      "metadata": {
        "id": "hJSnGucbtehu"
      },
      "source": [
        "res_var = var_vectorizer.fit_transform(X_val.variety.head())\n",
        "print(\"Input varieties\")\n",
        "print(X_val.variety.head())\n",
        "print()\n",
        "print(\"Output bag of words\")\n",
        "var_bow = pd.DataFrame(res_var.toarray(), columns=var_vectorizer.get_feature_names_out())\n",
        "var_bow"
      ],
      "execution_count": null,
      "outputs": []
    },
    {
      "cell_type": "markdown",
      "metadata": {
        "id": "DcH1uATqtehu"
      },
      "source": [
        "🚨 Les réponses aux questions doivent être données sur Moodle (Questionnaire \"Réponses aux questions du TP\")\n",
        "\n",
        "<div class=\"alert alert-info\">\n",
        "\n",
        "❓ [1] Que constatez-vous concernant la casse des caractères ? Que fait <code>CountVectorizer</code> par défaut ?\n",
        "\n",
        "</div>"
      ]
    },
    {
      "cell_type": "markdown",
      "metadata": {
        "id": "K3rbUwKZtehv"
      },
      "source": [
        "<div class=\"alert alert-info\">\n",
        "\n",
        "❓ [2] A quoi correspond le paramètre <code>min_df</code> utilisé à l'initialisation de <code>var_vectorizer</code> ? Vous pouvez consulter l'aide de CountVectorizer pour répondre à la question : https://scikit-learn.org/stable/modules/generated/sklearn.feature_extraction.text.CountVectorizer.html\n",
        "\n",
        "</div>"
      ]
    },
    {
      "cell_type": "markdown",
      "metadata": {
        "id": "NdymSYWwtehv"
      },
      "source": [
        "#### 2.1.2. Colonne `description`\n",
        "\n",
        "Pour la colonne `description`, le texte sera découpé en mots à l'aide de la fonction `split_into_tokens_nltk`. Les mots seront également mis en minuscules et les mots vides seront supprimés, à l'aide des paramètres spécifiques à `TfidfVectorizer` :"
      ]
    },
    {
      "cell_type": "code",
      "metadata": {
        "id": "P06nk_TXufT-"
      },
      "source": [
        "import nltk\n",
        "nltk.download('stopwords')\n",
        "nltk.download('punkt')"
      ],
      "execution_count": null,
      "outputs": []
    },
    {
      "cell_type": "code",
      "metadata": {
        "id": "3GcLhk0xtehw"
      },
      "source": [
        "def split_into_tokens_nltk(desc) :\n",
        "    return word_tokenize(desc)\n",
        "\n",
        "# Liste des mots vides de NLTK + signes de ponctuation\n",
        "nltk_stopwords = stopwords.words('english')+list(string.punctuation)\n",
        "\n",
        "# Objet TfidfVectorizer\n",
        "desc_vectorizer = TfidfVectorizer(tokenizer=split_into_tokens_nltk,\n",
        "                                  lowercase=True,\n",
        "                                  stop_words=nltk_stopwords,\n",
        "                                  min_df=0.01)"
      ],
      "execution_count": null,
      "outputs": []
    },
    {
      "cell_type": "markdown",
      "metadata": {
        "id": "BhqyLwCstehw"
      },
      "source": [
        "Exemple d'utilisation de `desc_vectorizer` sur les 5 premières lignes de `X_val` :"
      ]
    },
    {
      "cell_type": "code",
      "metadata": {
        "id": "EhkCgc_ctehw"
      },
      "source": [
        "res_desc = desc_vectorizer.fit_transform(X_val.description.head())\n",
        "print(\"Input descriptions\")\n",
        "print(X_val.description.head())\n",
        "print()\n",
        "print(\"Output bag of words\")\n",
        "desc_bow = pd.DataFrame(res_desc.toarray(), columns=desc_vectorizer.get_feature_names_out())\n",
        "desc_bow"
      ],
      "execution_count": null,
      "outputs": []
    },
    {
      "cell_type": "markdown",
      "metadata": {
        "id": "p9zaTF25tehx"
      },
      "source": [
        "#### 2.1.3 Utilisation de la colonne `description` pour obtenir des informations statistiques\n",
        "\n",
        "Nous pouvons déduire des informations supplémentaires à partir de la description : sa longueur en nombre de caractères et le nombre approximatif de phrases (en comptant le nombre de points).\n",
        "Pour ce faire, nous allons définir une function particulière chargée de calculer ces informations, `text_stats`. Ces informations seront ensuite transformées en traits utilisables pour l'apprentissage à l'aide d'un objet de type `DictVectorizer` (cf. https://scikit-learn.org/stable/modules/generated/sklearn.feature_extraction.DictVectorizer.html) :"
      ]
    },
    {
      "cell_type": "code",
      "metadata": {
        "id": "YaB-VRoitehx"
      },
      "source": [
        "# Source : https://scikit-learn.org/stable/auto_examples/compose/plot_column_transformer.html\n",
        "def text_stats(descriptions):\n",
        "    return [{\"length\": len(text), \"num_sentences\": text.count(\".\")}\n",
        "            for text in descriptions]\n",
        "\n",
        "text_stats_transformer = FunctionTransformer(text_stats)\n",
        "text_stats_vectorizer = DictVectorizer(sparse=False)"
      ],
      "execution_count": null,
      "outputs": []
    },
    {
      "cell_type": "markdown",
      "metadata": {
        "id": "G5-hXrb1tehy"
      },
      "source": [
        "Exemple d'utilisation de `text_stats_transformer` sur les 5 premières lignes de `X_val` :"
      ]
    },
    {
      "cell_type": "code",
      "metadata": {
        "id": "o1fPLml_tehy"
      },
      "source": [
        "res_dict = text_stats_transformer.transform(X_val.description.head())\n",
        "res_stats = text_stats_vectorizer.fit_transform(res_dict)\n",
        "print(\"Input descriptions\")\n",
        "print(X_val.description.head())\n",
        "print()\n",
        "print(\"Output statistics\")\n",
        "stats = pd.DataFrame(res_stats, columns=text_stats_vectorizer.get_feature_names_out())\n",
        "stats"
      ],
      "execution_count": null,
      "outputs": []
    },
    {
      "cell_type": "markdown",
      "metadata": {
        "id": "smNLmn8Etehy"
      },
      "source": [
        "On constate que ces mesures sont bien supérieures à 1. Les variables `length` et `num_sentences` ont des échelles de valeurs très différentes des variables obtenues par `CountVectorizer` et `TfIdfVectorizer`, qui sont comprises entre 0 et 1. Cela peut affecter la classification en donnant artificiellement plus de poids aux variables `length` et `num_sentences`. Pour cela, on peut normaliser les données, afin d'obtenir des plages de valeurs comparables pour les différentes variables. Plusieurs méthodes existent (standardisation à l'aide du z-score : moyenne nulle et variance de 1, par la valeur maximum absolue, etc.). Nous allons utiliser `MinMaxScaler` (cf. https://scikit-learn.org/stable/modules/generated/sklearn.preprocessing.MinMaxScaler.html#sklearn.preprocessing.MinMaxScaler). Cela permet d'obtenir des valeurs comprises dans un intervalle donné, par exemple \\[0, 1\\] :"
      ]
    },
    {
      "cell_type": "code",
      "metadata": {
        "id": "W6x0oUIetehz"
      },
      "source": [
        "min_max_scaler = MinMaxScaler()\n",
        "scaled_stats = min_max_scaler.fit_transform(res_stats)"
      ],
      "execution_count": null,
      "outputs": []
    },
    {
      "cell_type": "code",
      "metadata": {
        "id": "lP3fqOgTtehz"
      },
      "source": [
        "print(\"Before MinMax scaling\")\n",
        "print(res_stats)\n",
        "print()\n",
        "print(\"After MinMax scaling\")\n",
        "print(scaled_stats)"
      ],
      "execution_count": null,
      "outputs": []
    },
    {
      "cell_type": "markdown",
      "metadata": {
        "id": "Bawg-BaUtehz"
      },
      "source": [
        "<div class=\"alert alert-info\">\n",
        "\n",
        "❓ [3] Que deviennent les valeurs minimum et maximum après la normalisation ?\n",
        "\n",
        "</div>"
      ]
    },
    {
      "cell_type": "markdown",
      "metadata": {
        "id": "--co-HHyteh0"
      },
      "source": [
        "#### 2.1.4. Colonnes `expensive` et `sparkling`\n",
        "\n",
        "Ces colonnes ne contiennent que des 0 et des 1 et peuvent donc être utilisées telles quelles, sans nécessiter de traitement particulier."
      ]
    },
    {
      "cell_type": "markdown",
      "metadata": {
        "id": "aERhvlr5teh0"
      },
      "source": [
        "#### 2.1.5.  Chaîne de pré-traitement complète\n",
        "\n",
        "Il est maintenant possible de combiner toutes ces chaînes de pré-traitement afin d'obtenir une chaîne globale, qui produira l'union des traits générés indépendamment par chaque type de pré-traitement opéré sur les colonnes."
      ]
    },
    {
      "cell_type": "code",
      "metadata": {
        "id": "VlE8y3e1teh0"
      },
      "source": [
        "column_trans = ColumnTransformer(\n",
        "     [\n",
        "         # Colonne 'variety' : bag-of-words\n",
        "         ('variety_bow', var_vectorizer, 'variety'),\n",
        "         # Colonne 'description' : tf-idf\n",
        "         ('description_tfidf', desc_vectorizer, 'description'),\n",
        "         # Colonne 'description' : statistiques\n",
        "         (\n",
        "             'description_stats',\n",
        "             Pipeline(\n",
        "                 [\n",
        "                     ('text_stats', text_stats_transformer),\n",
        "                     ('vect', text_stats_vectorizer),\n",
        "                     ('scaling', min_max_scaler)\n",
        "                 ]\n",
        "             ),\n",
        "             'description'\n",
        "         )\n",
        "     ],\n",
        "     # Colonnes 'expensive' et 'sparkling' : conservées telles quelles\n",
        "     remainder='passthrough'\n",
        " )"
      ],
      "execution_count": null,
      "outputs": []
    },
    {
      "cell_type": "markdown",
      "metadata": {
        "id": "WVJgqDULteh0"
      },
      "source": [
        "Visualisation de la chaîne de pré-traitement complète :"
      ]
    },
    {
      "cell_type": "code",
      "metadata": {
        "id": "yBd2sQmateh1"
      },
      "source": [
        "column_trans"
      ],
      "execution_count": null,
      "outputs": []
    },
    {
      "cell_type": "markdown",
      "metadata": {
        "id": "7yaNj_zAteh1"
      },
      "source": [
        "### 2.2. Apprentissage"
      ]
    },
    {
      "cell_type": "markdown",
      "metadata": {
        "id": "toqegPiSteh1"
      },
      "source": [
        "On peut maintenant effectuer une chaîne complète, apprentissage compris. L'algorithme d'apprentissage utilisé ici est `LogisticRegression()` :"
      ]
    },
    {
      "cell_type": "code",
      "metadata": {
        "id": "bHMRgpbhteh1"
      },
      "source": [
        "# Prétraitement + apprentissage\n",
        "classifier_pipeline = make_pipeline(\n",
        "    # Préparation des données pour l'apprentissage\n",
        "    column_trans,\n",
        "    # Algorithme d'apprentissage\n",
        "    LogisticRegression()\n",
        ")"
      ],
      "execution_count": null,
      "outputs": []
    },
    {
      "cell_type": "code",
      "metadata": {
        "id": "lIr9Hdj6teh2"
      },
      "source": [
        "# Apprentissage avec les données d'entraînement\n",
        "classifier_pipeline.fit(X_train, y_train)"
      ],
      "execution_count": null,
      "outputs": []
    },
    {
      "cell_type": "markdown",
      "metadata": {
        "id": "144wYAUPteh2"
      },
      "source": [
        "Nous allons ensuite évaluer le modèle sur les données de test :"
      ]
    },
    {
      "cell_type": "code",
      "metadata": {
        "id": "3cgIxr3Zteh3"
      },
      "source": [
        "y_pred = classifier_pipeline.predict(X_val)\n",
        "print(\"Classification report:\\n\\n{}\".format(classification_report(y_val, y_pred)))"
      ],
      "execution_count": null,
      "outputs": []
    },
    {
      "cell_type": "markdown",
      "metadata": {
        "id": "wNsILZWwteh3"
      },
      "source": [
        "Dans l'affichage des résultats, la colonne `support` correspond au nombre d'instances de chaque classe dans les données de test (classes réelles et non pas classes prédites par le classifieur).\n",
        "\n",
        "(voir https://scikit-learn.org/stable/modules/generated/sklearn.metrics.classification_report.html)"
      ]
    },
    {
      "cell_type": "markdown",
      "metadata": {
        "id": "XmhVUTJRteh3"
      },
      "source": [
        "<div class=\"alert alert-info\">\n",
        "\n",
        "❓ [4] Quel est le score de justesse ?\n",
        "\n",
        "</div>"
      ]
    },
    {
      "cell_type": "markdown",
      "metadata": {
        "id": "E6L-E26Vteh4"
      },
      "source": [
        "<div class=\"alert alert-info\">\n",
        "\n",
        "❓ [5] Quelles sont les régions obtenant les meilleurs résultats en termes de :\n",
        "    <ul>\n",
        "        <li>précision</li>\n",
        "        <li>rappel</li>\n",
        "        <li>f1-score (f-mesure)</li>\n",
        "    </ul>\n",
        "    \n",
        "</div>"
      ]
    },
    {
      "cell_type": "markdown",
      "metadata": {
        "id": "U54ZlHUIteh4"
      },
      "source": [
        "<div class=\"alert alert-info\">\n",
        "\n",
        "❓ [6] Quelle région a le plus grand support ?\n",
        "\n",
        "</div>"
      ]
    },
    {
      "cell_type": "markdown",
      "metadata": {
        "id": "ikq4s_vLteh4"
      },
      "source": [
        "### 2.3. Analyse des résultats à l'aide des matrices de confusion"
      ]
    },
    {
      "cell_type": "markdown",
      "metadata": {
        "id": "-WJ4XKccteh4"
      },
      "source": [
        "Chaque ligne d'une matrice de confusion correspond à la classe réelle (classe attendue) et chaque colonne correspond à la classe prédite. Si la classification était parfaite, alors on ne trouverait que des valeurs non nulles sur la diagonale principale (coin supérieur gauche vers coin inférieur droit) et des valeurs nulles ailleurs dans la matrice (absence de confusions).\n",
        "\n",
        "La matrice de confusion permet de repérer facilement les classes pour lesquelles le modèle à le plus de difficultés (grandes valeurs qui ne se trouvent pas sur la diagonale) et avec quelle(s) autre(s) classe(s) ces classes sont le plus souvent confondues"
      ]
    },
    {
      "cell_type": "code",
      "metadata": {
        "id": "rzvYIVoFteh5"
      },
      "source": [
        "# Liste des labels (classes) se trouvant dans les données de test\n",
        "labels = np.unique(y_val)\n",
        "# Matrice de confusion\n",
        "cm =  confusion_matrix(y_val, y_pred, labels=labels)\n",
        "# Matrice de confusion sous forme de DataFrame\n",
        "confusion_df = pd.DataFrame(cm, index=labels, columns=labels)\n",
        "print('confusion matrix\\n')\n",
        "print('(row=expected, col=predicted)')\n",
        "confusion_df.head(n=15)"
      ],
      "execution_count": null,
      "outputs": []
    },
    {
      "cell_type": "markdown",
      "metadata": {
        "id": "C-Njv0xEteh5"
      },
      "source": [
        "<div class=\"alert alert-info\">\n",
        "\n",
        "❓ [7] Combien d'instances de la région 'Loire-Valley' sont correctement classées ?\n",
        "\n",
        "</div>"
      ]
    },
    {
      "cell_type": "markdown",
      "metadata": {
        "id": "Vmu7eGMLteh5"
      },
      "source": [
        "Affichage des régions qui sont le plus fréquemment confondues avec 'Alsace' :"
      ]
    },
    {
      "cell_type": "code",
      "metadata": {
        "id": "N2oWnd9fteh6"
      },
      "source": [
        "confusion_df.loc['Alsace'].sort_values(ascending=False)"
      ],
      "execution_count": null,
      "outputs": []
    },
    {
      "cell_type": "markdown",
      "metadata": {
        "id": "t8cB-U3fteh6"
      },
      "source": [
        "<div class=\"alert alert-info\">\n",
        "\n",
        "❓ [8] Quelles sont les 3 régions de production des vins les plus fréquemment confondues avec l'Alsace ?\n",
        "\n",
        "</div>"
      ]
    },
    {
      "cell_type": "markdown",
      "metadata": {
        "id": "cPM-wTY7teh6"
      },
      "source": [
        "La matrice de confusion peut également être représentée sous forme graphique :"
      ]
    },
    {
      "cell_type": "code",
      "metadata": {
        "id": "TRmsaQisteh6"
      },
      "source": [
        "plt.matshow(confusion_matrix(y_val, y_pred),\n",
        "            cmap=plt.cm.binary, interpolation='nearest')\n",
        "plt.title('confusion matrix')\n",
        "plt.colorbar()\n",
        "plt.ylabel('expected label')\n",
        "plt.xlabel('predicted label')"
      ],
      "execution_count": null,
      "outputs": []
    },
    {
      "cell_type": "markdown",
      "metadata": {
        "id": "S-3GrymTteh7"
      },
      "source": [
        "Affichage en couleur avec nom des classes :"
      ]
    },
    {
      "cell_type": "code",
      "metadata": {
        "id": "58JuWilGteh7"
      },
      "source": [
        "# Source : https://intellipaat.com/community/1611/sklearn-plot-confusion-matrix-with-labels\n",
        "# http://www.tarekatwan.com/index.php/2017/12/how-to-plot-a-confusion-matrix-in-python/\n",
        "\n",
        "fig = plt.figure()\n",
        "ax = fig.add_subplot(111)\n",
        "cax = ax.matshow(cm, interpolation='nearest', cmap=plt.cm.Oranges)\n",
        "fig.colorbar(cax)\n",
        "tick_marks = np.arange(len(labels))\n",
        "labels_for_fig = [l[0:5]+'.' for l in labels]\n",
        "plt.xticks(tick_marks, labels_for_fig, rotation=45)\n",
        "plt.yticks(tick_marks, labels_for_fig)\n",
        "plt.xlabel('Predicted')\n",
        "plt.ylabel('Expected')\n",
        "plt.show()"
      ],
      "execution_count": null,
      "outputs": []
    },
    {
      "cell_type": "markdown",
      "metadata": {
        "id": "IaeubHnLteh8"
      },
      "source": [
        "### 2.4. Apprentissage et évaluation par validation croisée\n",
        "\n",
        "Rappel :       \n",
        "- Validation croisée à $k$ plis ($k$_-fold cross-validation_) : les données d'entraînement sont découpées en $k$ parties (les \"plis\") :\n",
        "    - Un modèle est entraîné en utilisant $k$ - 1 \"plis\" puis validé sur le \"pli\" restant\n",
        "    - On fait ensuite la moyenne des mesures d'évaluation pour obtenir la performance finale du modèle.\n",
        "- Cela permet d'éviter de découper les données disponibles en jeu d'entraînement, de validation et de test : le jeu de validation n'est plus nécessaire\n",
        "\n",
        "#### 2.4.1. `KFold`\n",
        "\n",
        "`KFold` découpe le jeu de données en $k$ plis consécutifs (par défaut, les données ne sont pas mélangées : cela peut être modifié à l'aide du paramètre `shuffle`)"
      ]
    },
    {
      "cell_type": "code",
      "metadata": {
        "id": "_ziYsRq6teh8"
      },
      "source": [
        "# Nombre de plis\n",
        "folds = 5\n",
        "# Découpage en plis\n",
        "kfold = model_selection.KFold(n_splits=folds, shuffle=True, random_state=12)"
      ],
      "execution_count": null,
      "outputs": []
    },
    {
      "cell_type": "code",
      "metadata": {
        "id": "M-vm_4gzteh8"
      },
      "source": [
        "# Apprentissage avec validation croisée\n",
        "y_kfold_pred = model_selection.cross_val_predict(classifier_pipeline, X_train,\n",
        "                                                   y_train, cv=kfold, n_jobs=-1)"
      ],
      "execution_count": null,
      "outputs": []
    },
    {
      "cell_type": "code",
      "metadata": {
        "id": "wco4qqkjteh8"
      },
      "source": [
        "print(classification_report(y_train, y_kfold_pred))"
      ],
      "execution_count": null,
      "outputs": []
    },
    {
      "cell_type": "markdown",
      "metadata": {
        "id": "rw6wuxBvteh8"
      },
      "source": [
        "#### 2.4.2. `StratifiedKFold`\n",
        "\n",
        "`StratifiedKFold` prend en compte la répartition des classes, et le pourcentage d'exemples pour chaque classe est préservé dans chaque pli."
      ]
    },
    {
      "cell_type": "code",
      "metadata": {
        "id": "QygVI58-teh8"
      },
      "source": [
        "stratkfold = model_selection.StratifiedKFold(n_splits=folds, shuffle=True, random_state=12)"
      ],
      "execution_count": null,
      "outputs": []
    },
    {
      "cell_type": "code",
      "metadata": {
        "id": "sdX8lXvqteh8"
      },
      "source": [
        "y_stratkfold_pred = model_selection.cross_val_predict(classifier_pipeline, X_train,\n",
        "                                                   y_train, cv=stratkfold, n_jobs=-1)"
      ],
      "execution_count": null,
      "outputs": []
    },
    {
      "cell_type": "code",
      "metadata": {
        "id": "ZUpStKTQteh9"
      },
      "source": [
        "print(classification_report(y_train, y_stratkfold_pred))"
      ],
      "execution_count": null,
      "outputs": []
    },
    {
      "cell_type": "markdown",
      "metadata": {
        "id": "KiVwPAA1teh9"
      },
      "source": [
        "**Remarque**\n",
        "\n",
        "Il y a peu de différences ici entre `KFold` et `StratifiedKFold` car on dispose de suffisamment d'instances et dans les deux cas on mélange les données. D'une manière générale, si les classes ne sont pas équilibrées, on préfèrera `StratifiedKFold`."
      ]
    },
    {
      "cell_type": "markdown",
      "metadata": {
        "id": "PkyoZTFKteh9"
      },
      "source": [
        "### 2.5. Comparaison de plusieurs classifieurs\n",
        "\n",
        "Il est souvent utile de comparer plusieurs algorithmes de classification pour la même tâche, afin de déterminer lequel fonctionne le mieux.\n",
        "Le choix du classifieur dépend de la nature des données, de la quantité disponible, du type de résultat à obtenir.\n",
        "\n",
        "Pour vous aider dans le choix des classifieurs,  vous pouvez consulter les diagrammes d'aide suivants :\n",
        "\n",
        "<div>\n",
        "<br/>   \n",
        "<img src=\"https://www.googleapis.com/download/storage/v1/b/kaggle-user-content/o/inbox%2F4138465%2Fde131be0b3fb7d7f9d314e1f6c5f0ee6%2Fml_algos_cheat_sheet.png?generation=1590660360753004&alt=media\" width=\"700\"/>\n",
        "\n",
        "Source : https://www.kaggle.com/getting-started/154432\n",
        "</div>\n",
        "\n",
        "<div>\n",
        "<br/>   \n",
        "<img src=\"https://scikit-learn.org/stable/_static/ml_map.png\" width=\"700\"/>\n",
        "\n",
        "Source : https://scikit-learn.org/stable/tutorial/machine_learning_map/index.html\n",
        "</div>"
      ]
    },
    {
      "cell_type": "markdown",
      "metadata": {
        "id": "NXj5q8dIteh-"
      },
      "source": [
        "Nous allons comparer les algorithmes suivants, en utilisant la validation croisée :\n",
        "- `DummyClassifier` : baseline, toutes les instances seront classées dans la classe la plus fréquente (d'autres stratégies sont possibles)\n",
        "- `MultinomialNB` : Multinomial Naive Bayes, une des variantes de Naive Bayes généralement utilisée pour la classification de textes représentés sous forme de sacs de mots\n",
        "- `DecisionTreeClassifier` : arbre de décision, utilisant l'algorithme CART\n",
        "- `LogisticRegression` : la classe est prédite à partir d'une combinaison linéaire des traits, où chaque trait est associé à un coefficient.\n",
        "- `KNeighborsClassifier` : recherche les instances les plus proches dans les données d'apprentissage afin de déterminer la classe.\n",
        "- `RandomForestClassifier` : prédiction à partir d'un ensemble d'arbres de décision aléatoires, dont les décisions sont agrégées"
      ]
    },
    {
      "cell_type": "markdown",
      "metadata": {
        "id": "FpUWe03Tteh-"
      },
      "source": [
        "<div class=\"alert alert-danger\" role=\"alert\">\n",
        "\n",
        "⚠️ L'exécution de la cellule ci-dessous prend du temps, c'est normal ! ⚠️\n",
        "\n",
        "</div>"
      ]
    },
    {
      "cell_type": "code",
      "metadata": {
        "id": "-dKFD8ewteh-"
      },
      "source": [
        "# Modèles à comparer\n",
        "models = [\n",
        "    ('Baseline', DummyClassifier(strategy='most_frequent')),\n",
        "    ('Mutinomial NB', MultinomialNB()),\n",
        "    ('CART', DecisionTreeClassifier()),\n",
        "    ('LR', LogisticRegression()),\n",
        "    ('KNN', KNeighborsClassifier()),\n",
        "    ('Random forest', RandomForestClassifier())\n",
        "]\n",
        "# Evaluation de chaque résultat l'un après l'autre\n",
        "scores = []\n",
        "names = []\n",
        "scoring = 'macro F1'\n",
        "# Validation croisée à 5 plis\n",
        "kfold = model_selection.StratifiedKFold(n_splits=5, shuffle=True, random_state=12)\n",
        "# Itération sur les modèles\n",
        "for name, model in models:\n",
        "    # Ajout du nom du modèle à la liste name\n",
        "    names.append(name)\n",
        "    # Création de la pipeline pour le modèle\n",
        "    model_pipeline = make_pipeline(column_trans, model)\n",
        "    # Validation croisée\n",
        "    y_pred = model_selection.cross_val_predict(model_pipeline,\n",
        "                                               X_train, y_train,\n",
        "                                               cv=kfold)\n",
        "    print(name)\n",
        "    print(classification_report(y_train, y_pred))\n",
        "    f1 = metrics.f1_score(y_train, y_pred, average='macro')\n",
        "    scores.append(f1)\n",
        "\n",
        "# Représentation graphique des résultats\n",
        "indices = np.arange(len(scores))\n",
        "fig = plt.figure()\n",
        "plt.barh(indices, scores, .2, label=\"score\", color='b')\n",
        "plt.yticks(())\n",
        "for i, c in zip(indices, names):\n",
        "    plt.text(-.3, i, c)\n",
        "plt.show()"
      ],
      "execution_count": null,
      "outputs": []
    },
    {
      "cell_type": "markdown",
      "metadata": {
        "id": "ImhGaAhlteh_"
      },
      "source": [
        "<div class=\"alert alert-info\">\n",
        "\n",
        "❓ [9] Quel algorithme d'apprentissage obtient les meilleurs résultats (en termes de score F1 macro) ?\n",
        "\n",
        "</div>\n",
        "\n"
      ]
    },
    {
      "cell_type": "markdown",
      "source": [
        "<div class=\"alert alert-info\">\n",
        "\n",
        "❓ [10] Pourquoi est-ce que la classe 'Burgundy' est la seule à obtenir des scores supérieurs à 0 avec la méthode 'Baseline' ?\n",
        "\n",
        "</div>"
      ],
      "metadata": {
        "id": "zslERMFeCHQr"
      }
    },
    {
      "cell_type": "markdown",
      "metadata": {
        "id": "1X2wzfcJteh_"
      },
      "source": [
        "### 2.6. Entraînement uniquement avec une partie des traits\n",
        "\n",
        "Afin de mieux comprendre l'influence de certains traits sur l'apprentissage, il est d'usage de vérifier les résultats en supprimant un trait ou plusieurs traits afin de voir l'influence que cela a sur les résultats.\n",
        "\n",
        "Par exemple, on peut reprendre l'apprentissage en supprimant les traits liés aux statistiques textuelles (longueur du texte et nombre de phrases), en ne conservant que les autres traits :"
      ]
    },
    {
      "cell_type": "code",
      "metadata": {
        "id": "_8XY-eS-teh_"
      },
      "source": [
        "column_trans2 = ColumnTransformer(\n",
        "     [\n",
        "         # Colonne 'variety' : bag-of-words\n",
        "         ('variety_bow', var_vectorizer, 'variety'),\n",
        "         # Colonne 'description' : tf-idf\n",
        "         ('description_tfidf', desc_vectorizer, 'description'),\n",
        "     ],\n",
        "     # Colonnes 'expensive' et 'sparkling' : conservées telles quelles\n",
        "     remainder='passthrough'\n",
        " )\n",
        "column_trans2"
      ],
      "execution_count": null,
      "outputs": []
    },
    {
      "cell_type": "code",
      "metadata": {
        "id": "aohydgivteh_"
      },
      "source": [
        "# Validation croisée à 5 plis\n",
        "for name, model in models:\n",
        "    model_pipeline = make_pipeline(column_trans2, model)\n",
        "    y_pred = model_selection.cross_val_predict(model_pipeline, X_train, y_train,\n",
        "                                               cv=kfold)\n",
        "    print(name)\n",
        "    print(classification_report(y_train, y_pred))"
      ],
      "execution_count": null,
      "outputs": []
    },
    {
      "cell_type": "markdown",
      "metadata": {
        "id": "-xbi7LsEteiA"
      },
      "source": [
        "<div class=\"alert alert-info\">\n",
        "\n",
        "❓ [11] La suppression des traits liés aux statistiques textuelles (longueur du texte et nombre de phrases) a-t-elle un impact positif ou négatif sur les résultats de l'apprentissage ? Qu'en déduisez-vous sur l'utilité de ces traits pour l'apprentissage ?\n",
        "\n",
        "</div>"
      ]
    },
    {
      "cell_type": "markdown",
      "metadata": {
        "id": "agqd03zEteiA"
      },
      "source": [
        "<div class=\"alert alert-info\">\n",
        "    \n",
        "❓ [12] Quels sont les traits les plus importants pour faire la classification selon la région : 'variety_bow' ou 'description_tfidf' ? (testez l'élimination de l'un ou l'autre trait, en fixant le paramètre `remainder='drop'` pour éliminer les autres colonnes.\n",
        "\n",
        "</div>"
      ]
    },
    {
      "cell_type": "markdown",
      "metadata": {
        "id": "nWElV7JXteic"
      },
      "source": [
        "## 3. Bonus : Explication des prédictions\n",
        "\n",
        "Nous allons utiliser la bibliothèque [`lime`](https://github.com/marcotcr/lime/) pour essayer de comprendre les prédictions faites par le modèle.\n",
        "\n",
        "L'**explicabilité** consiste à pouvoir expliquer comment un modèle aboutit à ses prédictions, et c'est justement l'objectif de `lime`. `lime` met en évidence l'importance de certain tokens du texte pour expliquer la classe prédite pour une instance.\n",
        "\n",
        "Nous allons pour cela prendre le cas de l'apprentissage de la région de provenance des vins uniquement à partir de la description."
      ]
    },
    {
      "cell_type": "code",
      "metadata": {
        "id": "vHsm7qGxteid"
      },
      "source": [
        "c = make_pipeline(desc_vectorizer, LogisticRegression())\n",
        "c.fit(X_train.description, y_train)"
      ],
      "execution_count": null,
      "outputs": []
    },
    {
      "cell_type": "code",
      "metadata": {
        "id": "ULljOG02yaJo"
      },
      "source": [
        "! pip install lime"
      ],
      "execution_count": null,
      "outputs": []
    },
    {
      "cell_type": "code",
      "metadata": {
        "id": "ru7s8wpOteid"
      },
      "source": [
        "from lime.lime_text import LimeTextExplainer\n",
        "class_labels = c.classes_\n",
        "explainer = LimeTextExplainer(class_names=class_labels)"
      ],
      "execution_count": null,
      "outputs": []
    },
    {
      "cell_type": "code",
      "metadata": {
        "id": "DxmVkmBvteid"
      },
      "source": [
        "class_labels"
      ],
      "execution_count": null,
      "outputs": []
    },
    {
      "cell_type": "code",
      "metadata": {
        "id": "etMgydZUteie"
      },
      "source": [
        "idx = 5689\n",
        "print(f'Document id : {idx}')\n",
        "print(f'Classe prédite : {c.predict(X_val.loc[[idx]].description)[0]}')\n",
        "print(f'Classe réelle : {y_val.loc[idx]}')"
      ],
      "execution_count": null,
      "outputs": []
    },
    {
      "cell_type": "code",
      "metadata": {
        "id": "mQHmA0z3teif"
      },
      "source": [
        "exp = explainer.explain_instance(X_val.description.at[idx],\n",
        "                                 c.predict_proba,\n",
        "                                 num_features=6,\n",
        "                                 top_labels=len(class_labels))"
      ],
      "execution_count": null,
      "outputs": []
    },
    {
      "cell_type": "code",
      "metadata": {
        "id": "o9Zjcl0uteif"
      },
      "source": [
        "print('Explications (tokens qui affectent la classification posititivement et négativement)\\n')\n",
        "for i in range(len(class_labels)):\n",
        "    print(f'Classe {class_labels[i]}')\n",
        "    print('\\n'.join(map(str, exp.as_list(label=i))))\n",
        "    print()"
      ],
      "execution_count": null,
      "outputs": []
    },
    {
      "cell_type": "code",
      "metadata": {
        "id": "q-Z37fpateig"
      },
      "source": [
        "exp.show_in_notebook(text=False)"
      ],
      "execution_count": null,
      "outputs": []
    },
    {
      "cell_type": "code",
      "metadata": {
        "id": "2M4fYW1xteig"
      },
      "source": [
        "exp.show_in_notebook(text=X_val.description.at[idx], labels=(7, 2, 0))"
      ],
      "execution_count": null,
      "outputs": []
    },
    {
      "cell_type": "markdown",
      "metadata": {
        "id": "XzcDXiFIteih"
      },
      "source": [
        "Que se passe-t-il si l'on supprime le mot \"flavors\" du texte décrivant le vin ? De combien la probabilité de prédiction pour la classe \"Loire_Valley\" diminue-t-elle ?"
      ]
    },
    {
      "cell_type": "code",
      "metadata": {
        "id": "I8uZex7Kteih"
      },
      "source": [
        "exp = explainer.explain_instance(X_val.description.at[idx].replace('flavors', ''),\n",
        "                                 c.predict_proba,\n",
        "                                 num_features=6,\n",
        "                                 top_labels=len(class_labels))"
      ],
      "execution_count": null,
      "outputs": []
    },
    {
      "cell_type": "code",
      "metadata": {
        "id": "1ELPsdogteii"
      },
      "source": [
        "exp.show_in_notebook(text=X_val.description.at[idx], labels=(7, 2, 0))"
      ],
      "execution_count": null,
      "outputs": []
    },
    {
      "cell_type": "markdown",
      "metadata": {
        "id": "Mp_4ieadteii"
      },
      "source": [
        "## Sources\n",
        "- http://queirozf.com/entries/scikit-learn-pipeline-examples\n",
        "- http://www.davidsbatista.net/blog/2017/04/01/document_classification/\n",
        "- http://www.pitt.edu/~naraehan/presentation/Movie+Reviews+sentiment+analysis+with+Scikit-Learn.html\n",
        "- http://zacstewart.com/2014/08/05/pipelines-of-featureunions-of-pipelines.html\n",
        "- https://bbengfort.github.io/tutorials/2016/05/19/text-classification-nltk-sckit-learn.html\n",
        "- https://itnext.io/machine-learning-sentiment-analysis-of-movie-reviews-using-logisticregression-62e9622b4532\n",
        "- https://machinelearningmastery.com/compare-machine-learning-algorithms-python-scikit-learn/\n",
        "- https://medium.com/hugo-ferreiras-blog/dealing-with-categorical-features-in-machine-learning-1bb70f07262d\n",
        "- https://ramhiser.com/post/2018-04-16-building-scikit-learn-pipeline-with-pandas-dataframe\n",
        "- https://stackabuse.com/text-classification-with-python-and-scikit-learn/\n",
        "- https://towardsdatascience.com/multi-label-text-classification-with-scikit-learn-30714b7819c5\n",
        "- https://marcotcr.github.io/lime/tutorials/Lime%20-%20multiclass.html"
      ]
    }
  ]
}