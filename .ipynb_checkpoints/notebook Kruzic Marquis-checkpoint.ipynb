{
 "cells": [
  {
   "cell_type": "markdown",
   "id": "0088cf5c-ad98-48f8-a44a-03d187b671f5",
   "metadata": {},
   "source": [
    "# Projet TAL - RI\n",
    "_Charlotte Kruzic & Zoé Marquis_\n",
    "### Étape 1"
   ]
  },
  {
   "cell_type": "code",
   "execution_count": 2,
   "id": "d04f8909-77c9-4230-b554-4a24f5a1dbca",
   "metadata": {},
   "outputs": [
    {
     "name": "stdout",
     "output_type": "stream",
     "text": [
      "Defaulting to user installation because normal site-packages is not writeable\n",
      "Requirement already satisfied: pandas in /home/zoe/.local/lib/python3.10/site-packages (2.2.0)\n",
      "Requirement already satisfied: tzdata>=2022.7 in /home/zoe/.local/lib/python3.10/site-packages (from pandas) (2024.1)\n",
      "Requirement already satisfied: numpy<2,>=1.22.4 in /home/zoe/.local/lib/python3.10/site-packages (from pandas) (1.26.4)\n",
      "Requirement already satisfied: pytz>=2020.1 in /usr/lib/python3/dist-packages (from pandas) (2022.1)\n",
      "Requirement already satisfied: python-dateutil>=2.8.2 in /usr/local/lib/python3.10/dist-packages (from pandas) (2.8.2)\n",
      "Requirement already satisfied: six>=1.5 in /usr/lib/python3/dist-packages (from python-dateutil>=2.8.2->pandas) (1.16.0)\n"
     ]
    }
   ],
   "source": [
    "!pip install pandas"
   ]
  },
  {
   "cell_type": "code",
   "execution_count": 3,
   "id": "18f5f68b-e553-4916-a5fb-61c1c57718d6",
   "metadata": {},
   "outputs": [],
   "source": [
    "import pandas as pd"
   ]
  },
  {
   "cell_type": "markdown",
   "id": "54c63a0e-32f9-4ab6-9a30-952c60a5bf0d",
   "metadata": {},
   "source": [
    "### Importer les données"
   ]
  },
  {
   "cell_type": "code",
   "execution_count": 4,
   "id": "d1788d78-79f8-4095-bfec-38ae558fff63",
   "metadata": {},
   "outputs": [],
   "source": [
    "df_test = pd.read_csv(\"test.tsv\", sep='\\t')\n",
    "df_train = pd.read_csv(\"train.tsv\", sep='\\t')"
   ]
  },
  {
   "cell_type": "code",
   "execution_count": 5,
   "id": "6ca8a9ed-0127-4d9c-930c-357b0de4d32f",
   "metadata": {},
   "outputs": [
    {
     "data": {
      "text/html": [
       "<div>\n",
       "<style scoped>\n",
       "    .dataframe tbody tr th:only-of-type {\n",
       "        vertical-align: middle;\n",
       "    }\n",
       "\n",
       "    .dataframe tbody tr th {\n",
       "        vertical-align: top;\n",
       "    }\n",
       "\n",
       "    .dataframe thead th {\n",
       "        text-align: right;\n",
       "    }\n",
       "</style>\n",
       "<table border=\"1\" class=\"dataframe\">\n",
       "  <thead>\n",
       "    <tr style=\"text-align: right;\">\n",
       "      <th></th>\n",
       "      <th>category</th>\n",
       "      <th>headline</th>\n",
       "      <th>text</th>\n",
       "      <th>url</th>\n",
       "    </tr>\n",
       "  </thead>\n",
       "  <tbody>\n",
       "    <tr>\n",
       "      <th>0</th>\n",
       "      <td>business</td>\n",
       "      <td>Malick Diouf: incubateurs, startups et entrepr...</td>\n",
       "      <td>Fondateur de L'africamobile à Dakar, Malick Di...</td>\n",
       "      <td>https://www.bbc.com/afrique/region-53099443</td>\n",
       "    </tr>\n",
       "    <tr>\n",
       "      <th>1</th>\n",
       "      <td>business</td>\n",
       "      <td>Pourquoi de nombreuses entreprises américaines...</td>\n",
       "      <td>Un McDonald's à Tampa, en Floride, offre 50 do...</td>\n",
       "      <td>https://www.bbc.com/afrique/monde-57127699</td>\n",
       "    </tr>\n",
       "    <tr>\n",
       "      <th>2</th>\n",
       "      <td>business</td>\n",
       "      <td>Bronzes du Bénin : 'mon arrière-grand-père a s...</td>\n",
       "      <td>Dans les rues animées de Benin City, au Nigéri...</td>\n",
       "      <td>https://www.bbc.com/afrique/region-59077317</td>\n",
       "    </tr>\n",
       "    <tr>\n",
       "      <th>3</th>\n",
       "      <td>business</td>\n",
       "      <td>Archives géologiques : un milliard d'années on...</td>\n",
       "      <td>Par Zaria Gorvett * \"FEARFUL DISASTER\", titrai...</td>\n",
       "      <td>https://www.bbc.com/afrique/monde-58448245</td>\n",
       "    </tr>\n",
       "    <tr>\n",
       "      <th>4</th>\n",
       "      <td>business</td>\n",
       "      <td>Des survivants décrivent l'embuscade mortelle ...</td>\n",
       "      <td>Les survivants d'une attaque meurtrière contre...</td>\n",
       "      <td>https://www.bbc.com/afrique/region-50359708</td>\n",
       "    </tr>\n",
       "  </tbody>\n",
       "</table>\n",
       "</div>"
      ],
      "text/plain": [
       "   category                                           headline  \\\n",
       "0  business  Malick Diouf: incubateurs, startups et entrepr...   \n",
       "1  business  Pourquoi de nombreuses entreprises américaines...   \n",
       "2  business  Bronzes du Bénin : 'mon arrière-grand-père a s...   \n",
       "3  business  Archives géologiques : un milliard d'années on...   \n",
       "4  business  Des survivants décrivent l'embuscade mortelle ...   \n",
       "\n",
       "                                                text  \\\n",
       "0  Fondateur de L'africamobile à Dakar, Malick Di...   \n",
       "1  Un McDonald's à Tampa, en Floride, offre 50 do...   \n",
       "2  Dans les rues animées de Benin City, au Nigéri...   \n",
       "3  Par Zaria Gorvett * \"FEARFUL DISASTER\", titrai...   \n",
       "4  Les survivants d'une attaque meurtrière contre...   \n",
       "\n",
       "                                           url  \n",
       "0  https://www.bbc.com/afrique/region-53099443  \n",
       "1   https://www.bbc.com/afrique/monde-57127699  \n",
       "2  https://www.bbc.com/afrique/region-59077317  \n",
       "3   https://www.bbc.com/afrique/monde-58448245  \n",
       "4  https://www.bbc.com/afrique/region-50359708  "
      ]
     },
     "execution_count": 5,
     "metadata": {},
     "output_type": "execute_result"
    }
   ],
   "source": [
    "df_test.head()"
   ]
  },
  {
   "cell_type": "code",
   "execution_count": 6,
   "id": "c5d74143-d69d-492d-96a0-8060a7f8f1c5",
   "metadata": {},
   "outputs": [
    {
     "data": {
      "text/html": [
       "<div>\n",
       "<style scoped>\n",
       "    .dataframe tbody tr th:only-of-type {\n",
       "        vertical-align: middle;\n",
       "    }\n",
       "\n",
       "    .dataframe tbody tr th {\n",
       "        vertical-align: top;\n",
       "    }\n",
       "\n",
       "    .dataframe thead th {\n",
       "        text-align: right;\n",
       "    }\n",
       "</style>\n",
       "<table border=\"1\" class=\"dataframe\">\n",
       "  <thead>\n",
       "    <tr style=\"text-align: right;\">\n",
       "      <th></th>\n",
       "      <th>category</th>\n",
       "      <th>headline</th>\n",
       "      <th>text</th>\n",
       "      <th>url</th>\n",
       "    </tr>\n",
       "  </thead>\n",
       "  <tbody>\n",
       "    <tr>\n",
       "      <th>0</th>\n",
       "      <td>sports</td>\n",
       "      <td>L'Ouganda à l'assaut des \"fimbu\" de la RDC</td>\n",
       "      <td>L'Ouganda, placé 79e au classement FIFA le 4 a...</td>\n",
       "      <td>https://www.bbc.com/afrique/sports-48730747</td>\n",
       "    </tr>\n",
       "    <tr>\n",
       "      <th>1</th>\n",
       "      <td>business</td>\n",
       "      <td>Stopper la détérioration de l’environnement po...</td>\n",
       "      <td>La responsable de la biodiversité des Nations ...</td>\n",
       "      <td>https://www.bbc.com/afrique/articles/cevdz4xrp42o</td>\n",
       "    </tr>\n",
       "    <tr>\n",
       "      <th>2</th>\n",
       "      <td>sports</td>\n",
       "      <td>Coupe d'Afrique des nations 2022 : le sélectio...</td>\n",
       "      <td>Le sélectionneur de la Sierra Leone, John Keis...</td>\n",
       "      <td>https://www.bbc.com/afrique/region-59881445</td>\n",
       "    </tr>\n",
       "    <tr>\n",
       "      <th>3</th>\n",
       "      <td>business</td>\n",
       "      <td>Tissus africains : pourquoi les teintureries h...</td>\n",
       "      <td>Depuis plus de six siècles, une vaste zone sit...</td>\n",
       "      <td>https://www.bbc.com/afrique/region-61202726</td>\n",
       "    </tr>\n",
       "    <tr>\n",
       "      <th>4</th>\n",
       "      <td>business</td>\n",
       "      <td>Les revenus pendant la pandémie des dix hommes...</td>\n",
       "      <td>Pendant la pandémie de coronavirus, la richess...</td>\n",
       "      <td>https://www.bbc.com/afrique/monde-55812018</td>\n",
       "    </tr>\n",
       "  </tbody>\n",
       "</table>\n",
       "</div>"
      ],
      "text/plain": [
       "   category                                           headline  \\\n",
       "0    sports         L'Ouganda à l'assaut des \"fimbu\" de la RDC   \n",
       "1  business  Stopper la détérioration de l’environnement po...   \n",
       "2    sports  Coupe d'Afrique des nations 2022 : le sélectio...   \n",
       "3  business  Tissus africains : pourquoi les teintureries h...   \n",
       "4  business  Les revenus pendant la pandémie des dix hommes...   \n",
       "\n",
       "                                                text  \\\n",
       "0  L'Ouganda, placé 79e au classement FIFA le 4 a...   \n",
       "1  La responsable de la biodiversité des Nations ...   \n",
       "2  Le sélectionneur de la Sierra Leone, John Keis...   \n",
       "3  Depuis plus de six siècles, une vaste zone sit...   \n",
       "4  Pendant la pandémie de coronavirus, la richess...   \n",
       "\n",
       "                                                 url  \n",
       "0        https://www.bbc.com/afrique/sports-48730747  \n",
       "1  https://www.bbc.com/afrique/articles/cevdz4xrp42o  \n",
       "2        https://www.bbc.com/afrique/region-59881445  \n",
       "3        https://www.bbc.com/afrique/region-61202726  \n",
       "4         https://www.bbc.com/afrique/monde-55812018  "
      ]
     },
     "execution_count": 6,
     "metadata": {},
     "output_type": "execute_result"
    }
   ],
   "source": [
    "df_train.head()"
   ]
  },
  {
   "cell_type": "code",
   "execution_count": null,
   "id": "d19f82bb-cc1a-4bc2-82cc-c2873675ebbc",
   "metadata": {},
   "outputs": [],
   "source": []
  },
  {
   "cell_type": "code",
   "execution_count": 8,
   "id": "59fe3c0d-54c0-4109-bb09-fde3b6800042",
   "metadata": {},
   "outputs": [
    {
     "name": "stdout",
     "output_type": "stream",
     "text": [
      "Index(['category', 'headline', 'text', 'url'], dtype='object')\n"
     ]
    }
   ],
   "source": [
    "print(df_test.columns)"
   ]
  },
  {
   "cell_type": "code",
   "execution_count": 11,
   "id": "9e4b2969-a21e-4807-a8bb-2380dfb7a2c7",
   "metadata": {},
   "outputs": [
    {
     "name": "stdout",
     "output_type": "stream",
     "text": [
      "<class 'pandas.core.frame.DataFrame'>\n",
      "RangeIndex: 422 entries, 0 to 421\n",
      "Data columns (total 4 columns):\n",
      " #   Column    Non-Null Count  Dtype \n",
      "---  ------    --------------  ----- \n",
      " 0   category  422 non-null    object\n",
      " 1   headline  422 non-null    object\n",
      " 2   text      422 non-null    object\n",
      " 3   url       422 non-null    object\n",
      "dtypes: object(4)\n",
      "memory usage: 13.3+ KB\n",
      "None\n"
     ]
    }
   ],
   "source": [
    "print(df_test.info())"
   ]
  },
  {
   "cell_type": "code",
   "execution_count": null,
   "id": "58171496-1869-4557-85a1-b09523d9c717",
   "metadata": {},
   "outputs": [],
   "source": []
  }
 ],
 "metadata": {
  "kernelspec": {
   "display_name": "Python 3 (ipykernel)",
   "language": "python",
   "name": "python3"
  },
  "language_info": {
   "codemirror_mode": {
    "name": "ipython",
    "version": 3
   },
   "file_extension": ".py",
   "mimetype": "text/x-python",
   "name": "python",
   "nbconvert_exporter": "python",
   "pygments_lexer": "ipython3",
   "version": "3.10.12"
  }
 },
 "nbformat": 4,
 "nbformat_minor": 5
}
