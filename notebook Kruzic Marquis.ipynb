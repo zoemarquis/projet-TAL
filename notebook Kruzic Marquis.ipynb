{
 "cells": [
  {
   "cell_type": "markdown",
   "id": "0088cf5c-ad98-48f8-a44a-03d187b671f5",
   "metadata": {},
   "source": [
    "# Projet TAL - RI\n",
    "_Charlotte Kruzic & Zoé Marquis_\n",
    "### Étape 1"
   ]
  },
  {
   "cell_type": "code",
   "execution_count": 1,
   "id": "d04f8909-77c9-4230-b554-4a24f5a1dbca",
   "metadata": {},
   "outputs": [
    {
     "name": "stdout",
     "output_type": "stream",
     "text": [
      "Defaulting to user installation because normal site-packages is not writeable\n",
      "Requirement already satisfied: pandas in /home/zoe/.local/lib/python3.10/site-packages (2.2.0)\n",
      "Requirement already satisfied: tzdata>=2022.7 in /home/zoe/.local/lib/python3.10/site-packages (from pandas) (2024.1)\n",
      "Requirement already satisfied: numpy<2,>=1.22.4 in /home/zoe/.local/lib/python3.10/site-packages (from pandas) (1.26.4)\n",
      "Requirement already satisfied: pytz>=2020.1 in /usr/lib/python3/dist-packages (from pandas) (2022.1)\n",
      "Requirement already satisfied: python-dateutil>=2.8.2 in /usr/local/lib/python3.10/dist-packages (from pandas) (2.8.2)\n",
      "Requirement already satisfied: six>=1.5 in /usr/lib/python3/dist-packages (from python-dateutil>=2.8.2->pandas) (1.16.0)\n"
     ]
    }
   ],
   "source": [
    "!pip install pandas"
   ]
  },
  {
   "cell_type": "code",
   "execution_count": 21,
   "id": "18f5f68b-e553-4916-a5fb-61c1c57718d6",
   "metadata": {},
   "outputs": [
    {
     "name": "stderr",
     "output_type": "stream",
     "text": [
      "[nltk_data] Downloading package stopwords to /home/zoe/nltk_data...\n",
      "[nltk_data]   Package stopwords is already up-to-date!\n",
      "[nltk_data] Downloading package punkt to /home/zoe/nltk_data...\n",
      "[nltk_data]   Package punkt is already up-to-date!\n"
     ]
    },
    {
     "data": {
      "text/plain": [
       "True"
      ]
     },
     "execution_count": 21,
     "metadata": {},
     "output_type": "execute_result"
    }
   ],
   "source": [
    "import pandas as pd\n",
    "from sklearn.model_selection import train_test_split\n",
    "from nltk.tokenize import word_tokenize\n",
    "from nltk.corpus import stopwords\n",
    "import nltk\n",
    "nltk.download('stopwords')\n",
    "nltk.download('punkt')"
   ]
  },
  {
   "cell_type": "markdown",
   "id": "54c63a0e-32f9-4ab6-9a30-952c60a5bf0d",
   "metadata": {},
   "source": [
    "### Importer les données"
   ]
  },
  {
   "cell_type": "code",
   "execution_count": 3,
   "id": "d1788d78-79f8-4095-bfec-38ae558fff63",
   "metadata": {},
   "outputs": [],
   "source": [
    "df_test = pd.read_csv(\"test.tsv\", sep='\\t')\n",
    "df_train = pd.read_csv(\"train.tsv\", sep='\\t')"
   ]
  },
  {
   "cell_type": "code",
   "execution_count": 4,
   "id": "6ca8a9ed-0127-4d9c-930c-357b0de4d32f",
   "metadata": {},
   "outputs": [
    {
     "data": {
      "text/html": [
       "<div>\n",
       "<style scoped>\n",
       "    .dataframe tbody tr th:only-of-type {\n",
       "        vertical-align: middle;\n",
       "    }\n",
       "\n",
       "    .dataframe tbody tr th {\n",
       "        vertical-align: top;\n",
       "    }\n",
       "\n",
       "    .dataframe thead th {\n",
       "        text-align: right;\n",
       "    }\n",
       "</style>\n",
       "<table border=\"1\" class=\"dataframe\">\n",
       "  <thead>\n",
       "    <tr style=\"text-align: right;\">\n",
       "      <th></th>\n",
       "      <th>category</th>\n",
       "      <th>headline</th>\n",
       "      <th>text</th>\n",
       "      <th>url</th>\n",
       "    </tr>\n",
       "  </thead>\n",
       "  <tbody>\n",
       "    <tr>\n",
       "      <th>0</th>\n",
       "      <td>business</td>\n",
       "      <td>Malick Diouf: incubateurs, startups et entrepr...</td>\n",
       "      <td>Fondateur de L'africamobile à Dakar, Malick Di...</td>\n",
       "      <td>https://www.bbc.com/afrique/region-53099443</td>\n",
       "    </tr>\n",
       "    <tr>\n",
       "      <th>1</th>\n",
       "      <td>business</td>\n",
       "      <td>Pourquoi de nombreuses entreprises américaines...</td>\n",
       "      <td>Un McDonald's à Tampa, en Floride, offre 50 do...</td>\n",
       "      <td>https://www.bbc.com/afrique/monde-57127699</td>\n",
       "    </tr>\n",
       "    <tr>\n",
       "      <th>2</th>\n",
       "      <td>business</td>\n",
       "      <td>Bronzes du Bénin : 'mon arrière-grand-père a s...</td>\n",
       "      <td>Dans les rues animées de Benin City, au Nigéri...</td>\n",
       "      <td>https://www.bbc.com/afrique/region-59077317</td>\n",
       "    </tr>\n",
       "    <tr>\n",
       "      <th>3</th>\n",
       "      <td>business</td>\n",
       "      <td>Archives géologiques : un milliard d'années on...</td>\n",
       "      <td>Par Zaria Gorvett * \"FEARFUL DISASTER\", titrai...</td>\n",
       "      <td>https://www.bbc.com/afrique/monde-58448245</td>\n",
       "    </tr>\n",
       "    <tr>\n",
       "      <th>4</th>\n",
       "      <td>business</td>\n",
       "      <td>Des survivants décrivent l'embuscade mortelle ...</td>\n",
       "      <td>Les survivants d'une attaque meurtrière contre...</td>\n",
       "      <td>https://www.bbc.com/afrique/region-50359708</td>\n",
       "    </tr>\n",
       "  </tbody>\n",
       "</table>\n",
       "</div>"
      ],
      "text/plain": [
       "   category                                           headline  \\\n",
       "0  business  Malick Diouf: incubateurs, startups et entrepr...   \n",
       "1  business  Pourquoi de nombreuses entreprises américaines...   \n",
       "2  business  Bronzes du Bénin : 'mon arrière-grand-père a s...   \n",
       "3  business  Archives géologiques : un milliard d'années on...   \n",
       "4  business  Des survivants décrivent l'embuscade mortelle ...   \n",
       "\n",
       "                                                text  \\\n",
       "0  Fondateur de L'africamobile à Dakar, Malick Di...   \n",
       "1  Un McDonald's à Tampa, en Floride, offre 50 do...   \n",
       "2  Dans les rues animées de Benin City, au Nigéri...   \n",
       "3  Par Zaria Gorvett * \"FEARFUL DISASTER\", titrai...   \n",
       "4  Les survivants d'une attaque meurtrière contre...   \n",
       "\n",
       "                                           url  \n",
       "0  https://www.bbc.com/afrique/region-53099443  \n",
       "1   https://www.bbc.com/afrique/monde-57127699  \n",
       "2  https://www.bbc.com/afrique/region-59077317  \n",
       "3   https://www.bbc.com/afrique/monde-58448245  \n",
       "4  https://www.bbc.com/afrique/region-50359708  "
      ]
     },
     "execution_count": 4,
     "metadata": {},
     "output_type": "execute_result"
    }
   ],
   "source": [
    "df_test.head()"
   ]
  },
  {
   "cell_type": "code",
   "execution_count": 5,
   "id": "c5d74143-d69d-492d-96a0-8060a7f8f1c5",
   "metadata": {},
   "outputs": [
    {
     "data": {
      "text/html": [
       "<div>\n",
       "<style scoped>\n",
       "    .dataframe tbody tr th:only-of-type {\n",
       "        vertical-align: middle;\n",
       "    }\n",
       "\n",
       "    .dataframe tbody tr th {\n",
       "        vertical-align: top;\n",
       "    }\n",
       "\n",
       "    .dataframe thead th {\n",
       "        text-align: right;\n",
       "    }\n",
       "</style>\n",
       "<table border=\"1\" class=\"dataframe\">\n",
       "  <thead>\n",
       "    <tr style=\"text-align: right;\">\n",
       "      <th></th>\n",
       "      <th>category</th>\n",
       "      <th>headline</th>\n",
       "      <th>text</th>\n",
       "      <th>url</th>\n",
       "    </tr>\n",
       "  </thead>\n",
       "  <tbody>\n",
       "    <tr>\n",
       "      <th>0</th>\n",
       "      <td>sports</td>\n",
       "      <td>L'Ouganda à l'assaut des \"fimbu\" de la RDC</td>\n",
       "      <td>L'Ouganda, placé 79e au classement FIFA le 4 a...</td>\n",
       "      <td>https://www.bbc.com/afrique/sports-48730747</td>\n",
       "    </tr>\n",
       "    <tr>\n",
       "      <th>1</th>\n",
       "      <td>business</td>\n",
       "      <td>Stopper la détérioration de l’environnement po...</td>\n",
       "      <td>La responsable de la biodiversité des Nations ...</td>\n",
       "      <td>https://www.bbc.com/afrique/articles/cevdz4xrp42o</td>\n",
       "    </tr>\n",
       "    <tr>\n",
       "      <th>2</th>\n",
       "      <td>sports</td>\n",
       "      <td>Coupe d'Afrique des nations 2022 : le sélectio...</td>\n",
       "      <td>Le sélectionneur de la Sierra Leone, John Keis...</td>\n",
       "      <td>https://www.bbc.com/afrique/region-59881445</td>\n",
       "    </tr>\n",
       "    <tr>\n",
       "      <th>3</th>\n",
       "      <td>business</td>\n",
       "      <td>Tissus africains : pourquoi les teintureries h...</td>\n",
       "      <td>Depuis plus de six siècles, une vaste zone sit...</td>\n",
       "      <td>https://www.bbc.com/afrique/region-61202726</td>\n",
       "    </tr>\n",
       "    <tr>\n",
       "      <th>4</th>\n",
       "      <td>business</td>\n",
       "      <td>Les revenus pendant la pandémie des dix hommes...</td>\n",
       "      <td>Pendant la pandémie de coronavirus, la richess...</td>\n",
       "      <td>https://www.bbc.com/afrique/monde-55812018</td>\n",
       "    </tr>\n",
       "  </tbody>\n",
       "</table>\n",
       "</div>"
      ],
      "text/plain": [
       "   category                                           headline  \\\n",
       "0    sports         L'Ouganda à l'assaut des \"fimbu\" de la RDC   \n",
       "1  business  Stopper la détérioration de l’environnement po...   \n",
       "2    sports  Coupe d'Afrique des nations 2022 : le sélectio...   \n",
       "3  business  Tissus africains : pourquoi les teintureries h...   \n",
       "4  business  Les revenus pendant la pandémie des dix hommes...   \n",
       "\n",
       "                                                text  \\\n",
       "0  L'Ouganda, placé 79e au classement FIFA le 4 a...   \n",
       "1  La responsable de la biodiversité des Nations ...   \n",
       "2  Le sélectionneur de la Sierra Leone, John Keis...   \n",
       "3  Depuis plus de six siècles, une vaste zone sit...   \n",
       "4  Pendant la pandémie de coronavirus, la richess...   \n",
       "\n",
       "                                                 url  \n",
       "0        https://www.bbc.com/afrique/sports-48730747  \n",
       "1  https://www.bbc.com/afrique/articles/cevdz4xrp42o  \n",
       "2        https://www.bbc.com/afrique/region-59881445  \n",
       "3        https://www.bbc.com/afrique/region-61202726  \n",
       "4         https://www.bbc.com/afrique/monde-55812018  "
      ]
     },
     "execution_count": 5,
     "metadata": {},
     "output_type": "execute_result"
    }
   ],
   "source": [
    "df_train.head()"
   ]
  },
  {
   "cell_type": "code",
   "execution_count": null,
   "id": "d19f82bb-cc1a-4bc2-82cc-c2873675ebbc",
   "metadata": {},
   "outputs": [],
   "source": []
  },
  {
   "cell_type": "code",
   "execution_count": 6,
   "id": "59fe3c0d-54c0-4109-bb09-fde3b6800042",
   "metadata": {},
   "outputs": [
    {
     "name": "stdout",
     "output_type": "stream",
     "text": [
      "Index(['category', 'headline', 'text', 'url'], dtype='object')\n"
     ]
    }
   ],
   "source": [
    "print(df_train.columns)"
   ]
  },
  {
   "cell_type": "markdown",
   "id": "a09f8c8a-73fe-4644-8466-1a37cc4ca3fc",
   "metadata": {},
   "source": [
    "## 🧹 Nettoyer les données "
   ]
  },
  {
   "cell_type": "code",
   "execution_count": 7,
   "id": "b5145214-4410-4aa0-9b07-e06633ff0496",
   "metadata": {},
   "outputs": [
    {
     "name": "stdout",
     "output_type": "stream",
     "text": [
      "category    0\n",
      "headline    0\n",
      "text        0\n",
      "url         0\n",
      "dtype: int64\n"
     ]
    }
   ],
   "source": [
    "# identifier les valeurs manquantes\n",
    "valeurs_manquantes = df_train.isnull().sum()\n",
    "print(valeurs_manquantes) \n",
    "# pas de valeur manquante"
   ]
  },
  {
   "cell_type": "code",
   "execution_count": 8,
   "id": "145957e9-5e95-4f3f-a1c0-8246285c7078",
   "metadata": {},
   "outputs": [
    {
     "name": "stdout",
     "output_type": "stream",
     "text": [
      "1\n"
     ]
    }
   ],
   "source": [
    "# identifier les lignes dupliquées\n",
    "dupliquees = df_train.duplicated()\n",
    "print(dupliquees.sum())\n",
    "# 1 ligne dupliquée"
   ]
  },
  {
   "cell_type": "code",
   "execution_count": 9,
   "id": "df9311e2-7c60-461a-a138-dcd7e43eeb19",
   "metadata": {},
   "outputs": [
    {
     "name": "stdout",
     "output_type": "stream",
     "text": [
      "0\n"
     ]
    }
   ],
   "source": [
    "df_train = df_train.drop_duplicates()\n",
    "dupliquees = df_train.duplicated()\n",
    "print(dupliquees.sum())"
   ]
  },
  {
   "cell_type": "code",
   "execution_count": 10,
   "id": "9e4b2969-a21e-4807-a8bb-2380dfb7a2c7",
   "metadata": {},
   "outputs": [
    {
     "name": "stdout",
     "output_type": "stream",
     "text": [
      "<class 'pandas.core.frame.DataFrame'>\n",
      "Index: 1475 entries, 0 to 1475\n",
      "Data columns (total 4 columns):\n",
      " #   Column    Non-Null Count  Dtype \n",
      "---  ------    --------------  ----- \n",
      " 0   category  1475 non-null   object\n",
      " 1   headline  1475 non-null   object\n",
      " 2   text      1475 non-null   object\n",
      " 3   url       1475 non-null   object\n",
      "dtypes: object(4)\n",
      "memory usage: 57.6+ KB\n",
      "None\n"
     ]
    }
   ],
   "source": [
    "print(df_train.info())"
   ]
  },
  {
   "cell_type": "markdown",
   "id": "1381b66e-06c9-43da-8074-cedebe68b58c",
   "metadata": {},
   "source": [
    "1475 lignes  \n",
    "toutes les colonnes contiennent du texte  \n",
    "on s'intéresse seulement aux colonnes `headline` et `text` pour le moment"
   ]
  },
  {
   "cell_type": "markdown",
   "id": "90192837-a30c-4e1f-8d22-10b96d0e76d5",
   "metadata": {},
   "source": [
    "## Apprentissage de la catégorie\n",
    "à partir du titre et du texte"
   ]
  },
  {
   "cell_type": "code",
   "execution_count": 11,
   "id": "ea087ce1-7489-41a7-a0ad-66625986161c",
   "metadata": {},
   "outputs": [],
   "source": [
    "X = df_train[['headline', 'text']]\n",
    "y = df_train.category"
   ]
  },
  {
   "cell_type": "code",
   "execution_count": 12,
   "id": "84c69f02-8c67-4b7c-892e-1737095e9d82",
   "metadata": {},
   "outputs": [
    {
     "data": {
      "text/html": [
       "<div>\n",
       "<style scoped>\n",
       "    .dataframe tbody tr th:only-of-type {\n",
       "        vertical-align: middle;\n",
       "    }\n",
       "\n",
       "    .dataframe tbody tr th {\n",
       "        vertical-align: top;\n",
       "    }\n",
       "\n",
       "    .dataframe thead th {\n",
       "        text-align: right;\n",
       "    }\n",
       "</style>\n",
       "<table border=\"1\" class=\"dataframe\">\n",
       "  <thead>\n",
       "    <tr style=\"text-align: right;\">\n",
       "      <th></th>\n",
       "      <th>headline</th>\n",
       "      <th>text</th>\n",
       "    </tr>\n",
       "  </thead>\n",
       "  <tbody>\n",
       "    <tr>\n",
       "      <th>0</th>\n",
       "      <td>L'Ouganda à l'assaut des \"fimbu\" de la RDC</td>\n",
       "      <td>L'Ouganda, placé 79e au classement FIFA le 4 a...</td>\n",
       "    </tr>\n",
       "    <tr>\n",
       "      <th>1</th>\n",
       "      <td>Stopper la détérioration de l’environnement po...</td>\n",
       "      <td>La responsable de la biodiversité des Nations ...</td>\n",
       "    </tr>\n",
       "    <tr>\n",
       "      <th>2</th>\n",
       "      <td>Coupe d'Afrique des nations 2022 : le sélectio...</td>\n",
       "      <td>Le sélectionneur de la Sierra Leone, John Keis...</td>\n",
       "    </tr>\n",
       "    <tr>\n",
       "      <th>3</th>\n",
       "      <td>Tissus africains : pourquoi les teintureries h...</td>\n",
       "      <td>Depuis plus de six siècles, une vaste zone sit...</td>\n",
       "    </tr>\n",
       "    <tr>\n",
       "      <th>4</th>\n",
       "      <td>Les revenus pendant la pandémie des dix hommes...</td>\n",
       "      <td>Pendant la pandémie de coronavirus, la richess...</td>\n",
       "    </tr>\n",
       "  </tbody>\n",
       "</table>\n",
       "</div>"
      ],
      "text/plain": [
       "                                            headline  \\\n",
       "0         L'Ouganda à l'assaut des \"fimbu\" de la RDC   \n",
       "1  Stopper la détérioration de l’environnement po...   \n",
       "2  Coupe d'Afrique des nations 2022 : le sélectio...   \n",
       "3  Tissus africains : pourquoi les teintureries h...   \n",
       "4  Les revenus pendant la pandémie des dix hommes...   \n",
       "\n",
       "                                                text  \n",
       "0  L'Ouganda, placé 79e au classement FIFA le 4 a...  \n",
       "1  La responsable de la biodiversité des Nations ...  \n",
       "2  Le sélectionneur de la Sierra Leone, John Keis...  \n",
       "3  Depuis plus de six siècles, une vaste zone sit...  \n",
       "4  Pendant la pandémie de coronavirus, la richess...  "
      ]
     },
     "execution_count": 12,
     "metadata": {},
     "output_type": "execute_result"
    }
   ],
   "source": [
    "X.head()"
   ]
  },
  {
   "cell_type": "code",
   "execution_count": 13,
   "id": "939d6f94-93d6-48bb-921e-38adc282bd70",
   "metadata": {},
   "outputs": [
    {
     "data": {
      "text/plain": [
       "array(['sports', 'business', 'politics', 'health', 'technology'],\n",
       "      dtype=object)"
      ]
     },
     "execution_count": 13,
     "metadata": {},
     "output_type": "execute_result"
    }
   ],
   "source": [
    "y.unique()"
   ]
  },
  {
   "cell_type": "markdown",
   "id": "2956aa7a-adac-400a-ae6f-a3e11ab877d6",
   "metadata": {},
   "source": [
    "### Validation croisée\n",
    "découper les données en jeu d'apprentissage et de validation  \n",
    "20% pour la validation \n",
    "avant découpage, on mélange les données\n",
    "on fixe la graine : random_state=3 pour des fins de reproductibilité"
   ]
  },
  {
   "cell_type": "code",
   "execution_count": 14,
   "id": "c4515ae1-607a-4b97-987d-ad899ba9ed2e",
   "metadata": {},
   "outputs": [],
   "source": [
    "X_train, X_val, y_train, y_val = train_test_split(X, y, test_size=0.2, random_state=3, shuffle=True)"
   ]
  },
  {
   "cell_type": "code",
   "execution_count": null,
   "id": "aeb81d6a-dfc5-4b6a-8b55-660c6ecbd13c",
   "metadata": {},
   "outputs": [],
   "source": []
  },
  {
   "cell_type": "markdown",
   "id": "d9b8bf9b-11b2-4d72-aed5-7e08cddc4d22",
   "metadata": {},
   "source": [
    "Estimateurs\n",
    "\n",
    "Transformateurs\n",
    "\n",
    "Prédicteurs\n",
    "\n",
    "Pipeline"
   ]
  },
  {
   "cell_type": "markdown",
   "id": "592f018a-69fc-49cb-aefd-b4b357c03bc2",
   "metadata": {},
   "source": [
    "`text`\n",
    "\n",
    "découper le texte en mots\n",
    "en minuscules\n",
    "supprimer mots vides"
   ]
  },
  {
   "cell_type": "code",
   "execution_count": null,
   "id": "fbada578-fb16-45ea-b03a-89a950aed66f",
   "metadata": {},
   "outputs": [],
   "source": []
  },
  {
   "cell_type": "code",
   "execution_count": 22,
   "id": "73182b83-f0b1-439d-b2eb-a9e0e9f0a5a3",
   "metadata": {},
   "outputs": [
    {
     "ename": "NameError",
     "evalue": "name 'string' is not defined",
     "output_type": "error",
     "traceback": [
      "\u001b[0;31m---------------------------------------------------------------------------\u001b[0m",
      "\u001b[0;31mNameError\u001b[0m                                 Traceback (most recent call last)",
      "Cell \u001b[0;32mIn[22], line 5\u001b[0m\n\u001b[1;32m      2\u001b[0m     \u001b[38;5;28;01mreturn\u001b[39;00m word_tokenize(desc)\n\u001b[1;32m      4\u001b[0m \u001b[38;5;66;03m# Liste des mots vides de NLTK + signes de ponctuation\u001b[39;00m\n\u001b[0;32m----> 5\u001b[0m nltk_stopwords \u001b[38;5;241m=\u001b[39m stopwords\u001b[38;5;241m.\u001b[39mwords(\u001b[38;5;124m'\u001b[39m\u001b[38;5;124mfrench\u001b[39m\u001b[38;5;124m'\u001b[39m)\u001b[38;5;241m+\u001b[39m\u001b[38;5;28mlist\u001b[39m(\u001b[43mstring\u001b[49m\u001b[38;5;241m.\u001b[39mpunctuation)\n\u001b[1;32m      7\u001b[0m \u001b[38;5;66;03m# Objet TfidfVectorizer\u001b[39;00m\n\u001b[1;32m      8\u001b[0m desc_vectorizer \u001b[38;5;241m=\u001b[39m TfidfVectorizer(tokenizer\u001b[38;5;241m=\u001b[39msplit_into_tokens_nltk,\n\u001b[1;32m      9\u001b[0m                                   lowercase\u001b[38;5;241m=\u001b[39m\u001b[38;5;28;01mTrue\u001b[39;00m,\n\u001b[1;32m     10\u001b[0m                                   stop_words\u001b[38;5;241m=\u001b[39mnltk_stopwords,\n\u001b[1;32m     11\u001b[0m                                   min_df\u001b[38;5;241m=\u001b[39m\u001b[38;5;241m0.01\u001b[39m)\n",
      "\u001b[0;31mNameError\u001b[0m: name 'string' is not defined"
     ]
    }
   ],
   "source": [
    "def split_into_tokens_nltk(desc) :\n",
    "    return word_tokenize(desc)\n",
    "\n",
    "# Liste des mots vides de NLTK + signes de ponctuation\n",
    "nltk_stopwords = stopwords.words('french')+list(string.punctuation)\n",
    "\n",
    "# Objet TfidfVectorizer\n",
    "desc_vectorizer = TfidfVectorizer(tokenizer=split_into_tokens_nltk,\n",
    "                                  lowercase=True,\n",
    "                                  stop_words=nltk_stopwords,\n",
    "                                  min_df=0.01)"
   ]
  },
  {
   "cell_type": "code",
   "execution_count": null,
   "id": "94fb4022-c1a7-4355-9e38-52f0c5a9c6c8",
   "metadata": {},
   "outputs": [],
   "source": []
  },
  {
   "cell_type": "markdown",
   "id": "c9b898d3-a9f4-4d88-b40c-28432aa76048",
   "metadata": {},
   "source": [
    "## Approche sac de mots"
   ]
  },
  {
   "cell_type": "markdown",
   "id": "bcf73b21-01ef-49c7-847c-7c0153007453",
   "metadata": {},
   "source": [
    "## Approche LSTM bi-directionnel "
   ]
  },
  {
   "cell_type": "markdown",
   "id": "cc12c3c1-0109-424f-a10e-7951bb12d893",
   "metadata": {},
   "source": [
    "## Approche transformers"
   ]
  },
  {
   "cell_type": "code",
   "execution_count": null,
   "id": "5ee6a46b-1751-455c-b7f7-6c3411a7ef2f",
   "metadata": {},
   "outputs": [],
   "source": []
  },
  {
   "cell_type": "code",
   "execution_count": null,
   "id": "c8075793-d15c-4d71-946c-0c52817fdd06",
   "metadata": {},
   "outputs": [],
   "source": []
  },
  {
   "cell_type": "code",
   "execution_count": null,
   "id": "699c0a0c-f3bb-4389-ac82-799a9ea4fa31",
   "metadata": {},
   "outputs": [],
   "source": []
  },
  {
   "cell_type": "code",
   "execution_count": null,
   "id": "bfbd902c-f43e-406f-8158-cb6abbd68119",
   "metadata": {},
   "outputs": [],
   "source": []
  },
  {
   "cell_type": "code",
   "execution_count": null,
   "id": "93c545c1-6215-4911-8cf3-290f39de6f82",
   "metadata": {},
   "outputs": [],
   "source": []
  },
  {
   "cell_type": "code",
   "execution_count": null,
   "id": "bb194f71-f472-4e0a-83c1-b6d83b71ec5b",
   "metadata": {},
   "outputs": [],
   "source": []
  },
  {
   "cell_type": "code",
   "execution_count": null,
   "id": "cfd5d89f-f04a-426b-84ea-329fcbd21735",
   "metadata": {},
   "outputs": [],
   "source": []
  }
 ],
 "metadata": {
  "kernelspec": {
   "display_name": "Python 3 (ipykernel)",
   "language": "python",
   "name": "python3"
  },
  "language_info": {
   "codemirror_mode": {
    "name": "ipython",
    "version": 3
   },
   "file_extension": ".py",
   "mimetype": "text/x-python",
   "name": "python",
   "nbconvert_exporter": "python",
   "pygments_lexer": "ipython3",
   "version": "3.10.12"
  }
 },
 "nbformat": 4,
 "nbformat_minor": 5
}
